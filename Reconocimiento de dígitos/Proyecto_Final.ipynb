{
 "cells": [
  {
   "cell_type": "markdown",
   "metadata": {},
   "source": [
    "# Proyecto final :\n",
    "## Semeion Handwritten Digit Data Set \n",
    "### Agustín Jofré Millet"
   ]
  },
  {
   "cell_type": "markdown",
   "metadata": {},
   "source": [
    "###### Los datos son una sellección de 1593 dígitos escritos a mano. Estos consisten en filas de datos, cada fila contiene una imagen de 16x16 píxeles ( las primeras 256 columnas) , seguidas de 10 dígitos de unos y ceros , que representan el valor de Y.\n",
    "\n",
    "###### Se han empleadotres técnicas de clasificación para resolver el problema de reconocimiento de digitos. Regresión Logistica con sklearn PCA , support Vector Machines y  Redes Neuronales ( algoritmo de retopropagación).\n",
    "\n"
   ]
  },
  {
   "cell_type": "markdown",
   "metadata": {},
   "source": [
    "## 1. Regresión Logistica con Sklearn PCA\n",
    "\n",
    "El PCA es un metodos de transformación lineal, utiliza técnicas no supervisadas, a diferencia de los supervisados que tiene como objetivo predecir una variable. En el caso de los PCA la variable Y no se tiene encuenta para predecir.\n",
    "Utilizamos pca.explained_variance_ratio_ para decidir el número optimo de componentes principales a utilizar. El sumatorio de la varianza acumulada de cada componente siempre es 1. El objetivo de esto es utiliar el numero mínimo de componentes para explicar los datos. Se selecciona el punto donde la recta deja crecer tan rapido , por lo que se ha seleccionado hasta el componente 50 , en torno al 80% de la varianza.\n",
    "\n",
    "Procedemos a separar los datos en ejemplos de entrenamiento y test, dejando para el test un 20%. Aplicamos el método de regresión lineal. obtenemos el vector Theta que minimiza el error, para un valor de lambda = 0. Tras variar los valores de lambda , la curva de aprendizaje para la regresón lineal no varia mucho . Se obtiene un poco de sesgo (Bias: ambas curvas muy juntas y altas en la gráfica) , pero al bajar lamnda al minimo , no varia significativamente. por este motivo se deja lamnda al valor 0. Posibles soluciones a este sesgo , aumentar el grado del polinomio , mas caracteristicas, hipotesis mas complejas. Pero al ser muy poco el sesgo que hay no evaluamos estas posibilidades.\n",
    "\n",
    "Por últmo evaluamos 10 ejemplos de entraniemto con sus test y obtenemos una presición del 92.78%. "
   ]
  },
  {
   "cell_type": "code",
   "execution_count": 1,
   "metadata": {},
   "outputs": [],
   "source": [
    "import numpy as np\n",
    "import scipy.io as sio\n",
    "import matplotlib.pyplot as plt \n",
    "import scipy.optimize as opt\n",
    "from sklearn.preprocessing import PolynomialFeatures\n",
    "from scipy.io import loadmat\n",
    "from pandas.io.parsers import read_csv\n",
    "import scipy.io as io\n",
    "import pandas as pd\n",
    "from sklearn.decomposition import PCA\n",
    "\n",
    "from checkNNGradients import checkNNGradients"
   ]
  },
  {
   "cell_type": "markdown",
   "metadata": {},
   "source": [
    "### Cargamos el conjunto de datos"
   ]
  },
  {
   "cell_type": "code",
   "execution_count": 2,
   "metadata": {},
   "outputs": [
    {
     "name": "stdout",
     "output_type": "stream",
     "text": [
      "   0    1    2    3    4    5    6    7    8    9   ...   256  257  258  259  \\\n",
      "0  0.0  0.0  0.0  0.0  0.0  0.0  1.0  1.0  1.0  1.0 ...     1    0    0    0   \n",
      "1  0.0  0.0  0.0  0.0  0.0  1.0  1.0  1.0  1.0  1.0 ...     1    0    0    0   \n",
      "2  0.0  0.0  0.0  0.0  0.0  0.0  0.0  0.0  0.0  1.0 ...     1    0    0    0   \n",
      "3  0.0  0.0  0.0  0.0  0.0  0.0  1.0  1.0  1.0  1.0 ...     1    0    0    0   \n",
      "4  0.0  0.0  0.0  0.0  0.0  0.0  0.0  0.0  0.0  1.0 ...     1    0    0    0   \n",
      "\n",
      "   260  261  262  263  264  265  \n",
      "0    0    0    0    0    0    0  \n",
      "1    0    0    0    0    0    0  \n",
      "2    0    0    0    0    0    0  \n",
      "3    0    0    0    0    0    0  \n",
      "4    0    0    0    0    0    0  \n",
      "\n",
      "[5 rows x 266 columns]\n"
     ]
    }
   ],
   "source": [
    "data = read_csv(\"semeion.data\",delimiter = r\"\\s+\", header=None)\n",
    "#data = pd.read_csv(\"semeion.data\", sep=' ', header=None)\n",
    "\n",
    "m = data.shape[0]\n",
    "\n",
    "print (data.head())"
   ]
  },
  {
   "cell_type": "markdown",
   "metadata": {},
   "source": [
    "#### Convertimos la matriz y en digitos del 0 al 9 y dividimos la tabla de datos en X  y etiquetas de clase y"
   ]
  },
  {
   "cell_type": "code",
   "execution_count": 3,
   "metadata": {},
   "outputs": [
    {
     "name": "stdout",
     "output_type": "stream",
     "text": [
      "(1593, 256)\n",
      "(1593,)\n"
     ]
    }
   ],
   "source": [
    "\n",
    "data['y'] = data.iloc[:,256]*0 + data.iloc[:,257]*1 + data.iloc[:,258]*2 + data.iloc[:,259]*3 + data.iloc[:,260]*4 + \\\n",
    "                data.iloc[:,261]*5 + data.iloc[:,262]*6 + data.iloc[:,263]*7 + data.iloc[:,264]*8 + data.iloc[:,265]*9\n",
    "\n",
    "#creamos X e y\n",
    "X = data.iloc[:,:256]\n",
    "#etiquetas = data.iloc[:,256:-1]\n",
    "y = data['y']\n",
    "\n",
    "\n",
    "print (X.shape)\n",
    "#print (etiquetas.shape)\n",
    "print (y.shape)"
   ]
  },
  {
   "cell_type": "markdown",
   "metadata": {},
   "source": [
    "#### Vector X , donde X[i] es la varianza acumulada. Es decir Varianza de cada componente"
   ]
  },
  {
   "cell_type": "code",
   "execution_count": 4,
   "metadata": {},
   "outputs": [
    {
     "data": {
      "text/plain": [
       "Text(0,0.5,'Varianza acumulativa')"
      ]
     },
     "execution_count": 4,
     "metadata": {},
     "output_type": "execute_result"
    },
    {
     "data": {
      "image/png": "[encoded data removed]",
      "text/plain": [
       "<Figure size 432x288 with 1 Axes>"
      ]
     },
     "metadata": {},
     "output_type": "display_data"
    }
   ],
   "source": [
    "pca = PCA().fit(X)\n",
    "var = pca.explained_variance_ratio_\n",
    "#print (var)\n",
    "plt.plot(np.cumsum(pca.explained_variance_ratio_))\n",
    "plt.xlabel('numero de componentes')\n",
    "plt.ylabel('Varianza acumulativa')"
   ]
  },
  {
   "cell_type": "markdown",
   "metadata": {},
   "source": [
    "#### probamos con 2 componentes"
   ]
  },
  {
   "cell_type": "code",
   "execution_count": 5,
   "metadata": {},
   "outputs": [
    {
     "name": "stdout",
     "output_type": "stream",
     "text": [
      "(1593, 256)\n",
      "(1593, 50)\n"
     ]
    }
   ],
   "source": [
    "pca2 = PCA(50)\n",
    "resultPca2 = pca2.fit_transform(X)\n",
    "print(X.shape)\n",
    "print(resultPca2.shape)"
   ]
  },
  {
   "cell_type": "markdown",
   "metadata": {},
   "source": [
    "#### Varianza con 2 componentes"
   ]
  },
  {
   "cell_type": "code",
   "execution_count": 6,
   "metadata": {},
   "outputs": [
    {
     "data": {
      "text/plain": [
       "array([4.19374298, 3.56674714, 3.0143676 , 2.49069342, 1.9929005 ,\n",
       "       1.72766694, 1.49572806, 1.34690293, 1.16611981, 1.14176834,\n",
       "       1.09444388, 0.95953653, 0.94340423, 0.91732   , 0.84721118,\n",
       "       0.81829414, 0.73606195, 0.68642697, 0.65680428, 0.62718441,\n",
       "       0.6054815 , 0.56737838, 0.53310068, 0.52218167, 0.49878285,\n",
       "       0.4847692 , 0.47818687, 0.45772894, 0.42998356, 0.39579262,\n",
       "       0.39206037, 0.37160237, 0.36424128, 0.35103406, 0.34548065,\n",
       "       0.34195066, 0.32623485, 0.31221213, 0.29748641, 0.29083654,\n",
       "       0.2774854 , 0.26562627, 0.26098139, 0.24884249, 0.24569003,\n",
       "       0.23562798, 0.23049916, 0.2220677 , 0.21630827, 0.21156312])"
      ]
     },
     "execution_count": 6,
     "metadata": {},
     "output_type": "execute_result"
    }
   ],
   "source": [
    "pca2.explained_variance_"
   ]
  },
  {
   "cell_type": "markdown",
   "metadata": {},
   "source": [
    "##### Proyectamos el espacio de caracteristicas"
   ]
  },
  {
   "cell_type": "code",
   "execution_count": 7,
   "metadata": {},
   "outputs": [
    {
     "data": {
      "image/png": "[encoded data removed]",
      "text/plain": [
       "<Figure size 432x288 with 2 Axes>"
      ]
     },
     "metadata": {},
     "output_type": "display_data"
    }
   ],
   "source": [
    "plt.scatter(resultPca2[:, 0], resultPca2[:, 1],c=y, edgecolor='none', alpha=0.5)\n",
    "plt.colorbar();"
   ]
  },
  {
   "cell_type": "code",
   "execution_count": 8,
   "metadata": {},
   "outputs": [],
   "source": [
    "aproximacion = pca2.inverse_transform(resultPca2)"
   ]
  },
  {
   "cell_type": "markdown",
   "metadata": {},
   "source": [
    "\n",
    "#### Mostramos aleatoriamente un digito real, y otro de entrenamiento , X y aproximación"
   ]
  },
  {
   "cell_type": "code",
   "execution_count": 9,
   "metadata": {},
   "outputs": [
    {
     "data": {
      "text/plain": [
       "(-0.5, 15.5, 15.5, -0.5)"
      ]
     },
     "execution_count": 9,
     "metadata": {},
     "output_type": "execute_result"
    },
    {
     "data": {
      "image/png": "[encoded data removed]",
      "text/plain": [
       "<Figure size 432x288 with 2 Axes>"
      ]
     },
     "metadata": {},
     "output_type": "display_data"
    }
   ],
   "source": [
    "sample = np.random.randint(1, data.shape[0])\n",
    "X = np.asarray(X) #paso a arrray de numpy\n",
    "\n",
    "\n",
    "plt.figure();\n",
    "plt.subplot(1, 2, 1);\n",
    "plt.imshow(X[sample].reshape(16,16), cmap='Greys');\n",
    "plt.axis('off')\n",
    "\n",
    "\n",
    "plt.subplot(1, 2, 2);\n",
    "plt.imshow(aproximacion[sample].reshape(16, 16), cmap='Greys') \n",
    "plt.axis('off')\n",
    "\n",
    "\n"
   ]
  },
  {
   "cell_type": "markdown",
   "metadata": {},
   "source": [
    "#### Dividimos el conjunto de datos de entrenamiento , en entenamiento y prueba. 80% de entenamiento y 20% de prueba"
   ]
  },
  {
   "cell_type": "code",
   "execution_count": 10,
   "metadata": {},
   "outputs": [
    {
     "data": {
      "text/plain": [
       "PCA(copy=True, iterated_power='auto', n_components=None, random_state=None,\n",
       "  svd_solver='auto', tol=0.0, whiten=False)"
      ]
     },
     "execution_count": 10,
     "metadata": {},
     "output_type": "execute_result"
    }
   ],
   "source": [
    "from sklearn.model_selection import train_test_split\n",
    "X_train, X_test, y_train, y_test = train_test_split(X, y, test_size=0.2, random_state=0)\n",
    "\n",
    "#pca = PCA(0.8) ## nº de componentes\n",
    "\n",
    "#Entrenamos los ejemplos de entrenamiento , vaga la redundancia.\n",
    "pca.fit(X_train)"
   ]
  },
  {
   "cell_type": "code",
   "execution_count": 11,
   "metadata": {},
   "outputs": [
    {
     "name": "stdout",
     "output_type": "stream",
     "text": [
      "(1593, 256)\n",
      "(1593,)\n",
      "(2,)\n"
     ]
    },
    {
     "data": {
      "text/plain": [
       "array([ 0.09118   ,  0.2355385 ,  0.14802777,  0.06056417,  0.07687999,\n",
       "        0.01421435,  0.10460415,  0.02965434,  0.03330853,  0.14290402,\n",
       "        0.19773527,  0.36202333,  0.5005133 ,  0.39877566,  0.1544624 ,\n",
       "        0.14758841,  0.12068578,  0.02891723,  0.12223108,  0.15127926,\n",
       "        0.21464406,  0.08601505,  0.02013264, -0.01273776, -0.02670435,\n",
       "       -0.12079878, -0.04803875,  0.13435479,  0.20931589, -0.00844902,\n",
       "       -0.17033115, -0.04213359,  0.1836302 ,  0.21188315,  0.29760273,\n",
       "        0.35224517,  0.2186316 ,  0.16244436,  0.13874521,  0.15604825,\n",
       "        0.07670199,  0.16041032,  0.0281355 ,  0.0519386 , -0.0039119 ,\n",
       "       -0.15013598, -0.22341316, -0.05489195,  0.30604756,  0.18635881,\n",
       "        0.27113816,  0.19647865,  0.17816264,  0.30121981,  0.13097127,\n",
       "        0.04852708,  0.1350876 ,  0.08021147, -0.0679739 , -0.11809455,\n",
       "       -0.13195954, -0.05266195, -0.13834257, -0.04687771,  0.07100066,\n",
       "        0.20600152,  0.2492403 ,  0.2042093 ,  0.23180493,  0.25633674,\n",
       "        0.22868324,  0.23836683,  0.19419038,  0.12359386,  0.07825165,\n",
       "       -0.02932114,  0.14258941,  0.22000951,  0.01412031, -0.15564634,\n",
       "       -0.0509063 ,  0.09700835,  0.09760193,  0.16696049,  0.21466938,\n",
       "        0.19104814,  0.21007654,  0.12685866,  0.09070268,  0.08865746,\n",
       "        0.12573201,  0.12537575,  0.15042179,  0.19523113,  0.08878212,\n",
       "       -0.18155485, -0.38230475, -0.00266683,  0.08900948,  0.03188304,\n",
       "        0.13673477,  0.17811433,  0.17296768,  0.06094855,  0.05388067,\n",
       "        0.06346989,  0.20214649,  0.19647896,  0.26430701,  0.27892016,\n",
       "        0.31814095, -0.24437384, -0.32270921, -0.19989641, -0.04952287,\n",
       "        0.10248397,  0.10898833,  0.1122886 ,  0.16313594,  0.11631568,\n",
       "        0.09181886,  0.11465373,  0.06760934,  0.05014957,  0.06952635,\n",
       "        0.13688654,  0.20818119, -0.07099603, -0.15583381, -0.22179689,\n",
       "        0.01425054,  0.17274472,  0.14492436,  0.13054449,  0.20360258,\n",
       "        0.30460755,  0.18512811,  0.18331618,  0.06276148,  0.10435848,\n",
       "        0.06913987,  0.10069659,  0.0586752 ,  0.00789827,  0.0052654 ,\n",
       "        0.00501756,  0.08651216,  0.12259198,  0.11272928,  0.12633935,\n",
       "        0.20111178,  0.15168966,  0.19321064,  0.17070651,  0.24758981,\n",
       "        0.28025589,  0.13713195,  0.1436004 ,  0.10688421, -0.04415443,\n",
       "        0.04193826,  0.04844281,  0.06470965, -0.04620729, -0.05058411,\n",
       "       -0.00977078,  0.01418722, -0.01100297,  0.06837151,  0.21368508,\n",
       "        0.20688071,  0.13673391,  0.09295   ,  0.03066751,  0.02558184,\n",
       "        0.14116594,  0.07045002,  0.14374028,  0.1408036 , -0.0254232 ,\n",
       "        0.01993157, -0.0546322 , -0.06738367, -0.02286477,  0.12649394,\n",
       "        0.14523406,  0.08902095,  0.02970947, -0.02696446, -0.02149459,\n",
       "        0.11734964,  0.10897589,  0.03219294,  0.12114645,  0.07352626,\n",
       "       -0.02794704,  0.04349022,  0.0446745 ,  0.00111084, -0.01458936,\n",
       "        0.00370339, -0.09016677, -0.18402309, -0.10844789, -0.11577287,\n",
       "       -0.08383588,  0.00422274,  0.16892323,  0.08795757,  0.05043482,\n",
       "        0.06225209, -0.08431713, -0.14341195, -0.03716387, -0.10693208,\n",
       "       -0.23184549, -0.38196452, -0.29659365, -0.29553835, -0.18338393,\n",
       "       -0.13627733, -0.15177838, -0.05580065, -0.03064808, -0.10517741,\n",
       "       -0.00668417, -0.05189565, -0.12397727, -0.02400754,  0.02821104,\n",
       "       -0.02438592, -0.15123962, -0.21472579, -0.11572535, -0.08554406,\n",
       "       -0.23986153, -0.1829746 , -0.18355848, -0.19212857, -0.14788299,\n",
       "       -0.21880807,  0.01473555, -0.00150561, -0.02883323, -0.08745562,\n",
       "       -0.10069066, -0.05866929,  0.05468361, -0.01599506,  0.03827684,\n",
       "       -0.07750394, -0.12434794, -0.06375916, -0.06548459, -0.17473285,\n",
       "       -0.09681869, -0.06693113])"
      ]
     },
     "execution_count": 11,
     "metadata": {},
     "output_type": "execute_result"
    }
   ],
   "source": [
    "###pruena\n",
    "#regresion lineal regularizada\n",
    "def regLinealFuncCoste(X, y, theta, l ):\n",
    "  \n",
    "    \n",
    "    h = X.dot(theta)\n",
    "    \n",
    "    J = 1.0/(2*m) * np.sum(np.square(h - y)) + l/(2*m) * np.sum(np.square(theta[1:]))\n",
    "    \n",
    "    grad = (((1/(m))*(h - (y)).T.dot(X) + (l/m) * (theta)) - theta[0]*l/m).flatten()\n",
    "\n",
    "    \n",
    "    return J, grad\n",
    "theta = np.array([1, 1])\n",
    "l= 1\n",
    "\n",
    "\n",
    "\n",
    "print (X.shape)\n",
    "print (y.shape)\n",
    "print (theta.shape)\n",
    "\n",
    "def min_lineal_reg(X, y, l=0.0, maxiter=10):\n",
    "   \n",
    "    initial_theta = np.zeros(X.shape[1] )\n",
    "    costFunction = lambda t: regLinealFuncCoste(X, y, t, l)\n",
    "    options = {'maxiter': maxiter}\n",
    "    res = opt.minimize(costFunction, initial_theta, jac=True, method='TNC', options=options)\n",
    "    return res.x  \n",
    "\n",
    "l = 0\n",
    "X2 = np.hstack((np.ones((X.shape[0], 1)), X))\n",
    "theta = min_lineal_reg(X2, y, l)\n",
    "theta\n",
    "\n",
    "\n",
    "\n"
   ]
  },
  {
   "cell_type": "code",
   "execution_count": 15,
   "metadata": {},
   "outputs": [
    {
     "data": {
      "text/plain": [
       "Text(0,0.5,'Error')"
      ]
     },
     "execution_count": 15,
     "metadata": {},
     "output_type": "execute_result"
    },
    {
     "data": {
      "image/png": "[encoded data removed]",
      "text/plain": [
       "<Figure size 720x576 with 1 Axes>"
      ]
     },
     "metadata": {},
     "output_type": "display_data"
    }
   ],
   "source": [
    "def curvaAprendizaje(X, y, Xval, yval, l):\n",
    "    m = X.shape[0]\n",
    "    errro_entren = np.zeros(m)\n",
    "    error_val = np.zeros(m)\n",
    "    \n",
    "    for i in range(1, m + 1):\n",
    "        theta = min_lineal_reg(X[:i, ], y[:i, ], l)\n",
    "        errro_entren[i - 1] = 1.0 / (2 * i) * np.sum(np.square(X[:i, ].dot(theta) - y[:i, ]))\n",
    "        error_val[i - 1] = 1.0 / (2 * Xval.shape[0]) * np.sum(np.square(Xval.dot(theta) - yval))\n",
    "        \n",
    "    return errro_entren, error_val\n",
    "l = 0\n",
    "error_entren, error_val = curvaAprendizaje(np.hstack((np.ones((m, 1)), X)), y, np.hstack((np.ones((X_train.shape[0], 1)), X_train)), y_train, l)\n",
    "\n",
    "plt.figure(figsize=(10,8))\n",
    "plt.plot(np.arange(1, m+1), error_entren, np.arange(1, m+1), error_val, lw=2)\n",
    "plt.title('Learning curve for linear regression')\n",
    "plt.legend(['Train', 'Cross Validation'])\n",
    "plt.xlabel('Number of training examples')\n",
    "plt.ylabel('Error')\n",
    "\n"
   ]
  },
  {
   "cell_type": "markdown",
   "metadata": {},
   "source": [
    "#### Aplicamos Regresion Logistica con sklearn"
   ]
  },
  {
   "cell_type": "code",
   "execution_count": 16,
   "metadata": {},
   "outputs": [
    {
     "data": {
      "text/plain": [
       "LogisticRegression(C=1.0, class_weight=None, dual=False, fit_intercept=True,\n",
       "          intercept_scaling=1, max_iter=100, multi_class='ovr', n_jobs=1,\n",
       "          penalty='l2', random_state=None, solver='lbfgs', tol=0.0001,\n",
       "          verbose=0, warm_start=False)"
      ]
     },
     "execution_count": 16,
     "metadata": {},
     "output_type": "execute_result"
    }
   ],
   "source": [
    "from sklearn.linear_model import LogisticRegression\n",
    "logreg = LogisticRegression(solver='lbfgs') # otros solver : liblinear, newton-cg, sag , saga\n",
    "logreg.fit(X_train, y_train)"
   ]
  },
  {
   "cell_type": "markdown",
   "metadata": {},
   "source": [
    "#### Examinamos 10 ejemplos de test. Por un lado la prediccion obtenida de los ejempolos de entrenamiento y por otro las y de prueba."
   ]
  },
  {
   "cell_type": "code",
   "execution_count": 17,
   "metadata": {},
   "outputs": [
    {
     "name": "stdout",
     "output_type": "stream",
     "text": [
      "10 muestras a partir de:  107\n",
      " [0 3 5 3 2 7 7 0 2 8]\n",
      "[[0 3 5 3 2 7 7 0 2 8]]\n"
     ]
    }
   ],
   "source": [
    "y_test = np.asarray(y_test)\n",
    "\n",
    "num = np.random.randint(1,246)\n",
    "print(\"10 muestras a partir de: \", num)\n",
    "## prediccion sobre los test\n",
    "print(\"\", logreg.predict(X_test[num:num + 10]))\n",
    "print(y_test[num:num + 10].reshape(1,-1))"
   ]
  },
  {
   "cell_type": "markdown",
   "metadata": {},
   "source": [
    "#### Probabilidad , de todos los ejemplos de entrenamiento , con los de test. "
   ]
  },
  {
   "cell_type": "code",
   "execution_count": 18,
   "metadata": {},
   "outputs": [
    {
     "name": "stdout",
     "output_type": "stream",
     "text": [
      " Pred :  92.78996865203762 %\n"
     ]
    }
   ],
   "source": [
    "\n",
    "p = logreg.score(X_test, y_test)\n",
    "print(\" Pred : \" , p * 100 ,  \"%\")"
   ]
  },
  {
   "cell_type": "markdown",
   "metadata": {},
   "source": [
    "## 2. Support Vector Machines"
   ]
  },
  {
   "cell_type": "markdown",
   "metadata": {},
   "source": [
    "##### Usamos la tecnica de suport vector machines , con los ejemplos de entrenamiento del apartado anterrior, los entenamos y obtenemos los mismo resultados de presición con un valor de C = 1.0, variando el Parámetro de penalización C del término de error  obtenemos una presicón del 94,3573 % con C = 0.03. AL utilizar SVM con kernel gaussiano , con unos parametras C = 10000 y sigma = 10, el valor obtenido es un poco superior 94.6708 %, esto varia dependiendo el tamaño de n y m."
   ]
  },
  {
   "cell_type": "code",
   "execution_count": 19,
   "metadata": {},
   "outputs": [],
   "source": [
    "data = read_csv(\"semeion.data\",delimiter = r\"\\s+\", header=None)\n",
    "#data = pd.read_csv(\"semeion.data\", sep=' ', header=None)\n",
    "\n",
    "m = data.shape[0]\n",
    "\n",
    "data['y'] = data.iloc[:,256]*0 + data.iloc[:,257]*1 + data.iloc[:,258]*2 + data.iloc[:,259]*3 + data.iloc[:,260]*4 + \\\n",
    "                data.iloc[:,261]*5 + data.iloc[:,262]*6 + data.iloc[:,263]*7 + data.iloc[:,264]*8 + data.iloc[:,265]*9\n",
    "\n",
    "#creamos X e y\n",
    "X = data.iloc[:,:256]\n",
    "#etiquetas = data.iloc[:,256:-1]\n",
    "y = data['y']\n",
    "\n",
    "X_train, X_test, y_train, y_test = train_test_split(X, y, test_size=0.2, random_state=0)\n",
    "\n"
   ]
  },
  {
   "cell_type": "markdown",
   "metadata": {},
   "source": [
    "#### SVM = regresion logistica"
   ]
  },
  {
   "cell_type": "code",
   "execution_count": 67,
   "metadata": {},
   "outputs": [
    {
     "name": "stdout",
     "output_type": "stream",
     "text": [
      "Prediccion es de  94.35736677115987 %\n"
     ]
    }
   ],
   "source": [
    "import sklearn.svm\n",
    "\n",
    "clf = sklearn.svm.SVC(C=0.03, kernel='linear')\n",
    "clf.fit( X_train, y_train )\n",
    "\n",
    "prediccion = clf.predict(X_test).reshape((y_test.shape[0],1))\n",
    "\n",
    "print (\"Prediccion es de \", clf.score(X_test, y_test)* 100, \"%\")\n"
   ]
  },
  {
   "cell_type": "code",
   "execution_count": 68,
   "metadata": {},
   "outputs": [
    {
     "name": "stdout",
     "output_type": "stream",
     "text": [
      "[[38  0  0  0  0  0  0  0  0  0]\n",
      " [ 0 21  0  0  0  0  0  0  0  1]\n",
      " [ 0  1 31  0  0  0  0  0  0  0]\n",
      " [ 0  0  0 31  0  0  0  0  0  0]\n",
      " [ 0  2  0  0 29  0  0  1  0  0]\n",
      " [ 0  0  1  1  1 28  2  0  0  0]\n",
      " [ 0  0  0  0  0  0 33  0  0  0]\n",
      " [ 0  0  0  0  0  0  0 26  0  1]\n",
      " [ 0  1  0  0  0  0  0  0 33  0]\n",
      " [ 1  1  0  2  0  0  0  0  2 31]] \n",
      "\n",
      "             precision    recall  f1-score   support\n",
      "\n",
      "          0       0.97      1.00      0.99        38\n",
      "          1       0.81      0.95      0.88        22\n",
      "          2       0.97      0.97      0.97        32\n",
      "          3       0.91      1.00      0.95        31\n",
      "          4       0.97      0.91      0.94        32\n",
      "          5       1.00      0.85      0.92        33\n",
      "          6       0.94      1.00      0.97        33\n",
      "          7       0.96      0.96      0.96        27\n",
      "          8       0.94      0.97      0.96        34\n",
      "          9       0.94      0.84      0.89        37\n",
      "\n",
      "avg / total       0.95      0.94      0.94       319\n",
      "\n"
     ]
    }
   ],
   "source": [
    "from sklearn.metrics import classification_report, confusion_matrix  \n",
    "y_pred = clf.predict(X_test)\n",
    "\n",
    "print(confusion_matrix(y_test,y_pred), \"\\n\")  \n",
    "print(classification_report(y_test,y_pred))  "
   ]
  },
  {
   "cell_type": "markdown",
   "metadata": {},
   "source": [
    "### SVM con kernel gaussiano"
   ]
  },
  {
   "cell_type": "code",
   "execution_count": 80,
   "metadata": {},
   "outputs": [
    {
     "name": "stdout",
     "output_type": "stream",
     "text": [
      "Prediccion es de  95.92476489028213 %\n"
     ]
    }
   ],
   "source": [
    "C = 1000\n",
    "sigma = 5\n",
    "gamma = 1 / 2 / sigma**2\n",
    "\n",
    "clf2 = sklearn.svm.SVC(kernel='rbf',C=C, gamma=gamma)\n",
    "clf2.fit(X_train, y_train) \n",
    "prediccion = clf2.predict(X_test).reshape((y_test.shape[0],1))\n",
    "\n",
    "print (\"Prediccion es de \", clf2.score(X_test, y_test)* 100, \"%\")"
   ]
  },
  {
   "cell_type": "code",
   "execution_count": 81,
   "metadata": {},
   "outputs": [
    {
     "name": "stdout",
     "output_type": "stream",
     "text": [
      "[[38  0  0  0  0  0  0  0  0  0]\n",
      " [ 0 21  0  0  0  0  0  0  0  1]\n",
      " [ 0  0 32  0  0  0  0  0  0  0]\n",
      " [ 0  0  0 31  0  0  0  0  0  0]\n",
      " [ 0  2  0  0 29  0  0  1  0  0]\n",
      " [ 0  0  0  0  0 31  1  0  1  0]\n",
      " [ 0  0  0  0  0  0 33  0  0  0]\n",
      " [ 0  0  0  0  0  0  0 27  0  0]\n",
      " [ 0  1  0  1  0  0  0  0 32  0]\n",
      " [ 1  1  0  1  0  0  0  0  2 32]] \n",
      "\n",
      "             precision    recall  f1-score   support\n",
      "\n",
      "          0       0.97      1.00      0.99        38\n",
      "          1       0.84      0.95      0.89        22\n",
      "          2       1.00      1.00      1.00        32\n",
      "          3       0.94      1.00      0.97        31\n",
      "          4       1.00      0.91      0.95        32\n",
      "          5       1.00      0.94      0.97        33\n",
      "          6       0.97      1.00      0.99        33\n",
      "          7       0.96      1.00      0.98        27\n",
      "          8       0.91      0.94      0.93        34\n",
      "          9       0.97      0.86      0.91        37\n",
      "\n",
      "avg / total       0.96      0.96      0.96       319\n",
      "\n"
     ]
    }
   ],
   "source": [
    "y_pred = clf2.predict(X_test)\n",
    "print(confusion_matrix(y_test,y_pred), \"\\n\")\n",
    "print(classification_report(y_test,y_pred))  "
   ]
  },
  {
   "cell_type": "markdown",
   "metadata": {},
   "source": [
    "La precision es buenas, es decir no se etiqueta de forma positiva muestras negativas.(tp / (tp + fp))\n",
    "\n",
    "Recall altotambien , quiere decir que se encuentran todas la muestras positivas. (tp / (tp + fn)). \n",
    "\n",
    "f1-score es la media armonica de los dos anteriores, por tanto es buena tambien. \n",
    "\n",
    "support es el numero de apariciones de cada clase en y\n"
   ]
  },
  {
   "cell_type": "markdown",
   "metadata": {},
   "source": [
    "## 3. Redes Neuronales"
   ]
  },
  {
   "cell_type": "markdown",
   "metadata": {},
   "source": [
    "### Implementaremos el algoritmo de propagación hacia atrás para redes neuronales y lo aplicaremos a la tarea de reconocimiento de dígitos escrito a mano.\n",
    "\n",
    "El primer objetivo de esta parte es implemetar el cálculo de la función de coste y gradiente de una red neuronal para los ejemplo de entrenamiento.\n",
    "La red neuronal esta formada por 3 capas. A continuacion inicializamos los pesos aleatorios y calculamos el coste sin regularizar y regularizado, con el metodo de retropropagación.\n",
    "\n",
    "### Aprendizaje de los parámetros. Entrenando Redes Neuronales\n",
    "\n",
    "Utilizamos scipy.optimize.minimize para entrenar a la red neuronal y obtener los valores para Theta1 y Theta2 minimos. Entrenando a la red con lambda 0.05, 0.1, 1, 10 y 100 y 50, 100, 1000 y 5000  iteraciones obtenemos valores de presición distintos. A continuacion se muestra una tabla con los diferentes datos obtenidos.\n",
    "\n",
    "La presición de predicción obtenida mas alta fue obtenida con los valores de lambda del 0.051 con 1000 iteraciones, con un numero de capas ocultas de 50."
   ]
  },
  {
   "cell_type": "code",
   "execution_count": 22,
   "metadata": {},
   "outputs": [
    {
     "data": {
      "text/plain": [
       "<Figure size 432x288 with 0 Axes>"
      ]
     },
     "metadata": {},
     "output_type": "display_data"
    },
    {
     "data": {
      "image/png": "[encoded data removed]",
      "text/plain": [
       "<Figure size 432x288 with 1 Axes>"
      ]
     },
     "metadata": {},
     "output_type": "display_data"
    },
    {
     "data": {
      "image/png": "[encoded data removed]",
      "text/plain": [
       "<Figure size 432x288 with 1 Axes>"
      ]
     },
     "metadata": {},
     "output_type": "display_data"
    },
    {
     "data": {
      "image/png": "[encoded data removed]",
      "text/plain": [
       "<Figure size 432x288 with 1 Axes>"
      ]
     },
     "metadata": {},
     "output_type": "display_data"
    },
    {
     "data": {
      "image/png": "[encoded data removed]",
      "text/plain": [
       "<Figure size 432x288 with 1 Axes>"
      ]
     },
     "metadata": {},
     "output_type": "display_data"
    }
   ],
   "source": [
    "import scipy as sp\n",
    "import matplotlib.pyplot as plt\n",
    "\n",
    "# Creamos el array x \n",
    "x = np.array([0.05,0.1, 1, 10])\n",
    "\n",
    "\n",
    "# Creamos el array y para 50 iteraciones\n",
    "y1 = np.array([82.02,81.94, 81.996, 82.033])\n",
    "# Creamos el array y para 100 iteraciones\n",
    "y2 = np.array([82.03,81.99, 82.015, 82.034])\n",
    "# Creamos el array y para 1000 iteraciones\n",
    "y3 = np.array([83.01,82.034, 82.02, 81.99])\n",
    "# Creamos el array y para 5000 iteraciones\n",
    "y4 = np.array([83.01,82.021, 81.98, 81.94])\n",
    "\n",
    "# Creamos una figura\n",
    "plt.figure()\n",
    "\n",
    "# Representamos\n",
    "\n",
    "\n",
    "\n",
    "fig, ax = plt.subplots()\n",
    "ax.plot(x, y1)\n",
    "ax.set_title('50 iteraciones')\n",
    "plt.xlabel('lambda')\n",
    "plt.ylabel('Presición %')\n",
    "\n",
    "fig2, ax2 = plt.subplots()\n",
    "ax2.plot(x, y2)\n",
    "ax2.set_title('100 iteraciones')\n",
    "plt.xlabel('lambda')\n",
    "plt.ylabel('Presición %')\n",
    "\n",
    "fig3, ax3 = plt.subplots()\n",
    "ax3.plot(x, y3)\n",
    "ax3.set_title('1000 iteraciones')\n",
    "plt.xlabel('lambda')\n",
    "plt.ylabel('Presición %')\n",
    "\n",
    "fig4, ax4 = plt.subplots()\n",
    "ax4.plot(x, y4)\n",
    "ax4.set_title('5000 iteraciones')\n",
    "plt.xlabel('lambda')\n",
    "plt.ylabel('Presición %')\n",
    "\n",
    "\n",
    "\n",
    "\n",
    "# Mostramos en pantalla\n",
    "plt.show()"
   ]
  },
  {
   "cell_type": "code",
   "execution_count": 23,
   "metadata": {},
   "outputs": [
    {
     "name": "stdout",
     "output_type": "stream",
     "text": [
      "Data shape:  (1593, 266)\n",
      "X shape:  (1593, 256)\n",
      "Y shape:  (1593, 10)\n",
      "{'__header__': b'MATLAB 5.0 MAT-file Platform: posix, Created on: Mon Jan 21 00:14:38 2019', '__version__': '1.0', '__globals__': [], 'X': array([[0., 0., 0., ..., 0., 0., 0.],\n",
      "       [0., 0., 0., ..., 0., 0., 0.],\n",
      "       [0., 0., 0., ..., 0., 0., 0.],\n",
      "       ...,\n",
      "       [0., 0., 1., ..., 0., 0., 0.],\n",
      "       [0., 1., 1., ..., 0., 0., 0.],\n",
      "       [0., 0., 0., ..., 0., 0., 0.]]), 'y': array([[1., 0., 0., ..., 0., 0., 0.],\n",
      "       [1., 0., 0., ..., 0., 0., 0.],\n",
      "       [1., 0., 0., ..., 0., 0., 0.],\n",
      "       ...,\n",
      "       [0., 0., 0., ..., 0., 0., 1.],\n",
      "       [0., 0., 0., ..., 0., 0., 1.],\n",
      "       [0., 0., 0., ..., 0., 0., 1.]])}\n"
     ]
    }
   ],
   "source": [
    "num_entradas = 256   # Cada matriz de 256 componentes \n",
    "num_ocultas = 50   # jugar con este numero + alto mas se ajudta  probar valores mas altos , mas compleja red neuronal\n",
    "num_etiquetas = 10  \n",
    "\n",
    "\n",
    "# volvemos a abrir el data set para guardarlo como .mat y asi aprovechar funciones ya creadas.\n",
    "data = read_csv(\"semeion.data\",delimiter = r\"\\s+\", header=None).values\n",
    "\n",
    "print (\"Data shape: \", data.shape) # array de numpy\n",
    "\n",
    "\n",
    "X = data[:,:256].astype(float)\n",
    "y = data[:,256:266].astype(float)\n",
    "\n",
    "sve = [X, y]\n",
    "io.savemat('semeionMat', dict([('X' , X), ('y' , y)]))\n",
    "\n",
    "\n",
    "print (\"X shape: \", X.shape)\n",
    "\n",
    "print(\"Y shape: \", y.shape)\n",
    "\n",
    "# cargamos semeio.mat\n",
    "data = loadmat('semeionMat.mat')\n",
    "# se pueden consultar las claves con data . keys ()\n",
    "y = data['y']\n",
    "print (data)\n",
    "X = data['X']\n",
    "\n"
   ]
  },
  {
   "cell_type": "code",
   "execution_count": 24,
   "metadata": {},
   "outputs": [
    {
     "data": {
      "text/plain": [
       "(-0.5, 15.5, 159.5, -0.5)"
      ]
     },
     "execution_count": 24,
     "metadata": {},
     "output_type": "execute_result"
    },
    {
     "data": {
      "image/png": "[encoded data removed]",
      "text/plain": [
       "<Figure size 432x288 with 1 Axes>"
      ]
     },
     "metadata": {},
     "output_type": "display_data"
    }
   ],
   "source": [
    "m = len(X)\n",
    "#256 atributos\n",
    "# 1593 instancias\n",
    "sample = np.random.choice(X.shape[0], 10)\n",
    "plt.imshow(X[sample, :].reshape(-1, 16), cmap='Greys') \n",
    "plt.axis('off')"
   ]
  },
  {
   "cell_type": "markdown",
   "metadata": {},
   "source": [
    "### Función de coste y gradiente\n",
    "\\begin{equation*}\n",
    "J(\\theta) = \n",
    "-\\frac{1}{m} ((log(g(X\\theta)))^T y + (log (1 - g(X\\theta)))^T(1 - y)) + \\frac {\\lambda}{2m} \\sum_{j=1}^n \\theta_j^2\n",
    "\\end{equation*}\n",
    "\n",
    "\\begin{equation*}\n",
    "\\frac{\\delta J(\\theta)} {{\\delta}{ \\theta_j}}  = \n",
    "\\frac{1}{m} X^T(g(X\\theta) -y) + \\frac {\\lambda}{m} \\theta_j\n",
    "\\end{equation*}"
   ]
  },
  {
   "cell_type": "code",
   "execution_count": 25,
   "metadata": {},
   "outputs": [],
   "source": [
    "def sigmoid(z):\n",
    "    return 1 / (1 + np.exp(-z))\n",
    "\n",
    "def sigmoid_prima(z):\n",
    "    \"\"\"calculo de la derivada  de la fincion sigmoide\"\"\"\n",
    "    return sigmoid(z) * (1 - sigmoid(z))\n",
    "\n",
    "\n",
    "def costFunction(theta, X, y, l):\n",
    "    m = len(y)\n",
    "    hipTX = sigmoid(np.dot(X, theta))\n",
    "    thetaSinCero = np.insert(theta[1:], 0, 0)\n",
    "    c = - ((np.dot(y, np.log(hipTX).T) + np.dot(np.log(1 - hipTX).T, (1 - y))) / m) + l/(2*m) * np.sum(np.square(theta[1:]))\n",
    "    g= (np.dot(X.T, (hipTX -y)) + l * thetaSinCero) / m\n",
    "    return c,g\n",
    "\n",
    "def oneVsAll (X, y , num_etiquetas , reg ) :\n",
    "  \n",
    "    all_theta = np.zeros((num_etiquetas, X.shape[1] + 1))\n",
    "    X = np.hstack((np.ones((X.shape[0], 1)), X))\n",
    "    initial_theta = np.zeros(X.shape[1])\n",
    "\n",
    "    for i in range(0, num_etiquetas):\n",
    "        label = 10 if i == 0 else i\n",
    "        result = opt.fmin_tnc(costFunction, initial_theta, args=(X,(y==label).astype(int),reg))\n",
    "        print ('etiquetas =', label)\n",
    "        all_theta[i, :] = result[0]\n",
    "        \n",
    "    return all_theta\n",
    "\n",
    "def pesosAleatorios (L_in , L_out):\n",
    "    epsilon_init = 0.12\n",
    "    \n",
    "    return np.random.rand(L_out, 1 + L_in) * 2 * epsilon_init - epsilon_init"
   ]
  },
  {
   "cell_type": "markdown",
   "metadata": {},
   "source": [
    "### Algoritmo de Backpropagation"
   ]
  },
  {
   "cell_type": "code",
   "execution_count": 26,
   "metadata": {},
   "outputs": [],
   "source": [
    "def backprop(params_rn, num_entradas, num_ocultas, num_etiquetas, X, y, reg):\n",
    "    \n",
    "    theta1 = np.reshape(params_rn[:num_ocultas * (num_entradas + 1)], (num_ocultas , (num_entradas + 1)))\n",
    "    theta2 = np.reshape(params_rn[num_ocultas * (num_entradas + 1):] ,(num_etiquetas , (num_ocultas + 1)))\n",
    "    \n",
    "    m = len(X)\n",
    "\n",
    "    \n",
    "    theta1_s = np.square(theta1[:,1:])\n",
    "    theta2_s = np.square(theta2[:,1:])\n",
    "    \n",
    "    X = np.hstack((np.ones((X.shape[0], 1)), X))#añado unos a la col 0, shape 5000,401\n",
    "    \n",
    "    #print (X.shape)\n",
    "    #print (theta1.T.shape)\n",
    "    #print (theta2.T.shape)\n",
    "    a1 = X\n",
    "    \n",
    "    z2 = np.dot(a1, theta1.T)\n",
    "    a2 = sigmoid(z2) \n",
    "    a2 = np.hstack((np.ones((X.shape[0], 1)), a2)) #añado col de unos\n",
    "    \n",
    "    z3 = np.dot(a2, theta2.T)\n",
    "    a3 = sigmoid(z3)\n",
    "    \n",
    "    Y = np.zeros((m,num_etiquetas))\n",
    "    #for i in range(m):\n",
    "     #   Y[i, y[i]-1] = 1\n",
    "        \n",
    "    J = 0\n",
    "   \n",
    "    for i in range(m):\n",
    "        J += -(np.sum(np.dot(Y[i,] , np.log(a3[i,])) + np.dot((1- Y[i,]) , np.log(1- a3[i,]))) / m) \n",
    "    #print (J)\n",
    "    J += reg/(2*m) * (np.sum(theta1_s) + np.sum(theta2_s))\n",
    "    #g= (np.dot(X.T, (hipTX -y)) + l * thetaSinCero) / m \n",
    "    \n",
    "    \n",
    "    ##CALCULO DEL GRADIENTE RETRO-PROPAGACION\n",
    "    d3 = a3 - Y\n",
    "    D2 = np.dot(d3.T, a2)\n",
    "    \n",
    "    z2 = np.hstack((np.ones((X.shape[0], 1)), z2))\n",
    "    d2 = np.dot(d3, theta2) * sigmoid_prima(z2)\n",
    "    d2 = d2[:, 1:]\n",
    "    D1 = np.dot(d2.T, X)\n",
    "    \n",
    "    theta1Grad = 1.0 * D1 / m\n",
    "    theta1Grad[:, 1:] = theta1Grad[:, 1:] + 1.0 * reg / m * theta1[:, 1:]\n",
    "    \n",
    "    theta2Grad = 1.0 * D2 / m\n",
    "    theta2Grad[:, 1:] = theta2Grad[:, 1:] + 1.0 * reg / m * theta2[:, 1:]\n",
    "\n",
    "    #grad = np.hstack((theta1Grad.ravel(), theta2Grad.ravel()))\n",
    "    grad = np.concatenate([theta1Grad.ravel(), theta2Grad.ravel()])\n",
    "    \n",
    "    return J, grad\n",
    "\n",
    "\n"
   ]
  },
  {
   "cell_type": "markdown",
   "metadata": {},
   "source": [
    "#### Inicializamos los pesos aleatorios ( Thetas )"
   ]
  },
  {
   "cell_type": "code",
   "execution_count": 27,
   "metadata": {},
   "outputs": [
    {
     "name": "stdout",
     "output_type": "stream",
     "text": [
      "[-0.09301544  0.03168254  0.06020648 ...  0.10036554 -0.07779565\n",
      "  0.0430952 ]\n",
      "(13360,)\n"
     ]
    }
   ],
   "source": [
    "initial_theta_1 = pesosAleatorios(num_entradas, num_ocultas)\n",
    "initial_theta_2 = pesosAleatorios(num_ocultas, num_etiquetas)\n",
    "initial_params_rn = np.hstack((initial_theta_1.ravel(), initial_theta_2.ravel()))\n",
    "print (initial_params_rn)\n",
    "print(initial_params_rn.shape)"
   ]
  },
  {
   "cell_type": "markdown",
   "metadata": {},
   "source": [
    "#### Regularización"
   ]
  },
  {
   "cell_type": "code",
   "execution_count": 28,
   "metadata": {},
   "outputs": [
    {
     "name": "stdout",
     "output_type": "stream",
     "text": [
      "coste 1 con lambda = 0:  7.564224314596358\n",
      "coste 1 con lambda = 1 regularizado:  7.564224314596358\n"
     ]
    }
   ],
   "source": [
    "reg= 0\n",
    "cost1, grad1 = backprop(initial_params_rn, num_entradas, num_ocultas, num_etiquetas, X, y,0.0)\n",
    "costReg, grad2 = backprop(initial_params_rn, num_entradas, num_ocultas, num_etiquetas, X, y,reg)\n",
    "print (\"coste 1 con lambda = 0: \", cost1)\n",
    "print (\"coste 1 con lambda = 1 regularizado: \", costReg)"
   ]
  },
  {
   "cell_type": "markdown",
   "metadata": {},
   "source": [
    "#### Chequeo del gradiente"
   ]
  },
  {
   "cell_type": "code",
   "execution_count": 29,
   "metadata": {},
   "outputs": [
    {
     "name": "stdout",
     "output_type": "stream",
     "text": [
      "7.564224314596358 [ 1.09936005e-10 -5.40444946e-12  8.35869221e-12  3.25026533e-11\n",
      " -1.16232995e-10  6.88391011e-12 -3.45132256e-11 -1.04031686e-10\n",
      " -1.65033209e-10  1.54594809e-11 -8.23925372e-11 -2.37331849e-10\n",
      " -6.07836559e-11  4.01101374e-12 -2.04831707e-11 -7.62467589e-11\n",
      "  4.92536290e-11 -1.96296278e-12  2.35443748e-11  5.41779052e-11\n",
      "  6.21963592e-11  1.16381904e-11  6.82254253e-12  2.03542738e-12\n",
      "  2.03469464e-11  1.81471504e-11  7.11513071e-11  1.57016622e-11\n",
      "  1.14082632e-11  9.22056875e-12  1.64337988e-11  2.11696216e-11\n",
      "  7.42017559e-11  1.75510162e-11  6.40237863e-12  1.32329148e-11\n",
      "  1.64266378e-11  1.93563499e-11]\n"
     ]
    }
   ],
   "source": [
    "reg = 0\n",
    "checkNNGradients(backprop, reg)\n",
    "J , _ = backprop(initial_params_rn, num_entradas, num_ocultas, num_etiquetas, X, y, reg)\n",
    "print (J,checkNNGradients(backprop, reg))"
   ]
  },
  {
   "cell_type": "markdown",
   "metadata": {},
   "source": [
    "### Aprendizaje de los parámetros. Entrando Redes Neuronales\n",
    "\n"
   ]
  },
  {
   "cell_type": "code",
   "execution_count": 30,
   "metadata": {},
   "outputs": [],
   "source": [
    "reg = 0.005\n",
    "options={'maxiter': 1000} ## mas iteraciones cientos miles\n",
    "res = opt.minimize (backprop, initial_params_rn, \n",
    "                    args=(num_entradas, num_ocultas, \n",
    "                    num_etiquetas, X, y,reg),method = 'TNC',\n",
    "                    jac=True, options=options )\n",
    "param_en = res.x\n",
    "\n",
    "#theta1 y theta de params_rn\n",
    "Theta1 = np.reshape(param_en[:num_ocultas * (num_entradas + 1)],\n",
    "                    (num_ocultas, (num_entradas + 1)))\n",
    "\n",
    "Theta2 = np.reshape(param_en[(num_ocultas * (num_entradas + 1)):],\n",
    "                    (num_etiquetas, (num_ocultas + 1)))"
   ]
  },
  {
   "cell_type": "code",
   "execution_count": 31,
   "metadata": {},
   "outputs": [
    {
     "data": {
      "text/plain": [
       "(-0.5, 15.5, 15.5, -0.5)"
      ]
     },
     "execution_count": 31,
     "metadata": {},
     "output_type": "execute_result"
    },
    {
     "data": {
      "image/png": "[encoded data removed]",
      "text/plain": [
       "<Figure size 432x288 with 1 Axes>"
      ]
     },
     "metadata": {},
     "output_type": "display_data"
    }
   ],
   "source": [
    "plt.imshow(Theta1[:1, 1:].reshape(-1, 16), cmap='Greys')\n",
    "\n",
    "plt.axis('off')"
   ]
  },
  {
   "cell_type": "code",
   "execution_count": 32,
   "metadata": {},
   "outputs": [],
   "source": [
    "def displayData(X):\n",
    "    num_plots = int(np.size(X, 0)**.7)\n",
    "    fig, ax = plt.subplots(num_plots, num_plots, sharex=True, sharey=True)\n",
    "    plt.subplots_adjust(left=0, wspace=0, hspace=0)\n",
    "    img_num = 0\n",
    "    print (num_plots)\n",
    "    for i in range(num_plots):\n",
    "        for j in range(num_plots):\n",
    "            # Convert column vector into 20x20 pixel matrix\n",
    "            # transpose\n",
    "            img = X[img_num, :].reshape(-1, 16)\n",
    "            ax[i][j].imshow(img, cmap='Greys')\n",
    "            ax[i][j].set_axis_off()\n",
    "            img_num += 1\n",
    "\n",
    "    return (fig, ax)\n",
    "\n"
   ]
  },
  {
   "cell_type": "code",
   "execution_count": 33,
   "metadata": {},
   "outputs": [
    {
     "name": "stdout",
     "output_type": "stream",
     "text": [
      "(50, 256)\n",
      "2\n"
     ]
    },
    {
     "data": {
      "image/png": "[encoded data removed]",
      "text/plain": [
       "<Figure size 432x288 with 4 Axes>"
      ]
     },
     "metadata": {},
     "output_type": "display_data"
    }
   ],
   "source": [
    "print(Theta1[:, 1:].shape)\n",
    "fig, ax = displayData(Theta1[:4, 1:])\n"
   ]
  },
  {
   "cell_type": "markdown",
   "metadata": {},
   "source": [
    "#### Prediccion"
   ]
  },
  {
   "cell_type": "code",
   "execution_count": 34,
   "metadata": {},
   "outputs": [],
   "source": [
    "def modelo(theta1, theta2, X):\n",
    "    X = np.hstack((np.ones((X.shape[0], 1)), X))#añado unos a la col 0, shape 5000,401\n",
    "    a1 = sigmoid(np.dot(X, theta1.T)) #calculo a1\n",
    "    a1 = np.hstack((np.ones((X.shape[0], 1)), a1)) #añado col de unos\n",
    "    \n",
    "    a2 = sigmoid(np.dot(a1, theta2.T))\n",
    "\n",
    "    p = np.argmax(a2, axis=1)#índices de los valores máximos del eje 1\n",
    "    p += 1 #los indices arrancan desde 1 no desde cero\n",
    "  \n",
    "    return p"
   ]
  },
  {
   "cell_type": "code",
   "execution_count": 35,
   "metadata": {},
   "outputs": [
    {
     "name": "stdout",
     "output_type": "stream",
     "text": [
      "(1593,)\n",
      "[0. 0. 0. 0. 0. 1. 0. 0. 0. 0.]\n",
      "Prediccion de  5 es de  81.99623352165725 %\n"
     ]
    }
   ],
   "source": [
    "p = modelo (Theta1, Theta2, X )\n",
    "print (p.shape)\n",
    "#print (Y_np.shape)\n",
    "\n",
    "if p[0] == 10:\n",
    "    indice = 0\n",
    "else:\n",
    "    indice = p\n",
    "\n",
    "pred = np.zeros(10)\n",
    "\n",
    "pred[indice] = 1\n",
    "\n",
    "print (pred)\n",
    "print (\"Prediccion de \",p[0],\"es de \", np.mean(pred == y)* 100, \"%\")\n",
    "\n"
   ]
  },
  {
   "cell_type": "code",
   "execution_count": 36,
   "metadata": {},
   "outputs": [
    {
     "data": {
      "image/png": "[encoded data removed]",
      "text/plain": [
       "<Figure size 720x576 with 1 Axes>"
      ]
     },
     "metadata": {},
     "output_type": "display_data"
    }
   ],
   "source": [
    "Tecnicas = (\"Regresíon Logistica\", \"SVM (kernel lineal)\",\"SVM(kernel gaussiano)\", \"Redes Neuronales\")\n",
    "posicion_y = np.arange(len(Tecnicas))\n",
    "unidades = (92.7891, 94.3573, 94.6708, 83.4213)\n",
    "\n",
    "plt.figure(figsize=(10,8))\n",
    "plt.barh(posicion_y, unidades, align = \"center\")\n",
    "plt.yticks(posicion_y, Tecnicas)\n",
    "plt.xlabel('presicói (%)')\n",
    "plt.title(\"Técnicas usadas:\")\n",
    "\n",
    "plt.savefig('grf_barra_total.png')"
   ]
  },
  {
   "cell_type": "code",
   "execution_count": null,
   "metadata": {},
   "outputs": [],
   "source": []
  },
  {
   "cell_type": "code",
   "execution_count": null,
   "metadata": {},
   "outputs": [],
   "source": []
  },
  {
   "cell_type": "code",
   "execution_count": null,
   "metadata": {},
   "outputs": [],
   "source": []
  },
  {
   "cell_type": "code",
   "execution_count": null,
   "metadata": {},
   "outputs": [],
   "source": []
  },
  {
   "cell_type": "code",
   "execution_count": null,
   "metadata": {},
   "outputs": [],
   "source": []
  },
  {
   "cell_type": "code",
   "execution_count": null,
   "metadata": {},
   "outputs": [],
   "source": []
  }
 ],
 "metadata": {
  "kernelspec": {
   "display_name": "Python 3",
   "language": "python",
   "name": "python3"
  },
  "language_info": {
   "codemirror_mode": {
    "name": "ipython",
    "version": 3
   },
   "file_extension": ".py",
   "mimetype": "text/x-python",
   "name": "python",
   "nbconvert_exporter": "python",
   "pygments_lexer": "ipython3",
   "version": "3.6.5"
  }
 },
 "nbformat": 4,
 "nbformat_minor": 2
}
