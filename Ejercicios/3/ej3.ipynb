{
 "cells": [
  {
   "cell_type": "markdown",
   "metadata": {},
   "source": [
    "# Ejercicio 3: Regresión logística multi-clase y redes neuronales\n",
    "  ##     Agustín Jofré Millet"
   ]
  },
  {
   "cell_type": "markdown",
   "metadata": {},
   "source": [
    "## 1. Regresión logística multi-clase"
   ]
  },
  {
   "cell_type": "markdown",
   "metadata": {},
   "source": [
    "### 1.1. Visualización de los datos"
   ]
  },
  {
   "cell_type": "code",
   "execution_count": 20,
   "metadata": {},
   "outputs": [
    {
     "name": "stdout",
     "output_type": "stream",
     "text": [
      "{'__header__': b'MATLAB 5.0 MAT-file, Platform: GLNXA64, Created on: Sun Oct 16 13:09:09 2011', '__version__': '1.0', '__globals__': [], 'X': array([[0., 0., 0., ..., 0., 0., 0.],\n",
      "       [0., 0., 0., ..., 0., 0., 0.],\n",
      "       [0., 0., 0., ..., 0., 0., 0.],\n",
      "       ...,\n",
      "       [0., 0., 0., ..., 0., 0., 0.],\n",
      "       [0., 0., 0., ..., 0., 0., 0.],\n",
      "       [0., 0., 0., ..., 0., 0., 0.]]), 'y': array([[10],\n",
      "       [10],\n",
      "       [10],\n",
      "       ...,\n",
      "       [ 9],\n",
      "       [ 9],\n",
      "       [ 9]], dtype=uint8)}\n",
      "(5000, 400)\n",
      "[10 10 10 ...  9  9  9]\n"
     ]
    }
   ],
   "source": [
    "import numpy as np\n",
    "import matplotlib.pyplot as plt \n",
    "import scipy.optimize as opt\n",
    "from sklearn.preprocessing import PolynomialFeatures\n",
    "from scipy.io import loadmat\n",
    "\n",
    "\n",
    "data = loadmat('ex3data1.mat')\n",
    "\n",
    "# se pueden consultar las claves con data . keys ()\n",
    "y = data['y'].ravel()  # matriz aplanada (vector)\n",
    "X = data['X']\n",
    "print (data)\n",
    "#np.place(y, y == 10, 0)\n",
    "\n",
    "num_etiquetas = 10\n",
    "reg = 0.1\n",
    "#m = len(y)\n",
    "\n",
    "print(X.shape)\n",
    "print(y.flatten())\n",
    "\n",
    "# almacena los datos leídos en X, y"
   ]
  },
  {
   "cell_type": "code",
   "execution_count": 7,
   "metadata": {},
   "outputs": [
    {
     "data": {
      "text/plain": [
       "(-0.5, 199.5, 19.5, -0.5)"
      ]
     },
     "execution_count": 7,
     "metadata": {},
     "output_type": "execute_result"
    },
    {
     "data": {
      "image/png": "[encoded data removed]",
      "text/plain": [
       "<Figure size 432x288 with 1 Axes>"
      ]
     },
     "metadata": {},
     "output_type": "display_data"
    }
   ],
   "source": [
    "sample = np.random.choice(X.shape[0], 10) \n",
    "plt.imshow(X[sample, :].reshape(-1, 20).T) \n",
    "plt.axis('off')"
   ]
  },
  {
   "cell_type": "markdown",
   "metadata": {},
   "source": [
    "### 1.2. Vectorización de la regresión logística"
   ]
  },
  {
   "cell_type": "code",
   "execution_count": 8,
   "metadata": {},
   "outputs": [],
   "source": [
    "def sigmoid(z):\n",
    "    return 1 / (1 + np.exp(-z))"
   ]
  },
  {
   "cell_type": "code",
   "execution_count": 9,
   "metadata": {},
   "outputs": [],
   "source": [
    "def costFunction2(theta, X, y, l):\n",
    "    hipTX = sigmoid(np.dot(X, theta))\n",
    "    \n",
    "    return - ((np.dot(y, np.log(hipTX).T) + np.dot(np.log(1 - hipTX).T, (1 - y))) / m) + l/(2*m) * np.sum(np.square(theta[1:]))"
   ]
  },
  {
   "cell_type": "code",
   "execution_count": 22,
   "metadata": {},
   "outputs": [],
   "source": [
    "def gradientFunction2(theta, X, y, l):\n",
    "    hipTX = sigmoid(np.dot(X, theta))\n",
    "    thetaSinCero = np.insert(theta[1:], 0, 0)\n",
    "    return (np.dot(X.T, (hipTX -y)) / m) + (l * thetaSinCero) / m"
   ]
  },
  {
   "cell_type": "markdown",
   "metadata": {},
   "source": [
    "### Función de coste y gradiente\n",
    "\\begin{equation*}\n",
    "J(\\theta) = \n",
    "-\\frac{1}{m} ((log(g(X\\theta)))^T y + (log (1 - g(X\\theta)))^T(1 - y)) + \\frac {\\lambda}{2m} \\sum_{j=1}^n \\theta_j^2\n",
    "\\end{equation*}\n",
    "\n",
    "\\begin{equation*}\n",
    "\\frac{\\delta J(\\theta)} {{\\delta}{ \\theta_j}}  = \n",
    "\\frac{1}{m} X^T(g(X\\theta) -y) + \\frac {\\lambda}{m} \\theta_j\n",
    "\\end{equation*}\n",
    "\n"
   ]
  },
  {
   "cell_type": "code",
   "execution_count": 23,
   "metadata": {},
   "outputs": [],
   "source": [
    "def costFunction(theta, X, y, l):\n",
    "    m = len(y)\n",
    "    hipTX = sigmoid(np.dot(X, theta))\n",
    "    thetaSinCero = np.insert(theta[1:], 0, 0)\n",
    "    c = - ((np.dot(y, np.log(hipTX).T) + np.dot(np.log(1 - hipTX).T, (1 - y))) / m) + l/(2*m) * np.sum(np.square(theta[1:]))\n",
    "    g= (np.dot(X.T, (hipTX -y)) + l * thetaSinCero) / m\n",
    "    return c,g"
   ]
  },
  {
   "cell_type": "markdown",
   "metadata": {},
   "source": [
    "### 1.3. Clasificación de uno frente a todos"
   ]
  },
  {
   "cell_type": "code",
   "execution_count": 24,
   "metadata": {},
   "outputs": [],
   "source": [
    "def oneVsAll (X, y , num_etiquetas , reg ) :\n",
    "  \n",
    "    all_theta = np.zeros((num_etiquetas, X.shape[1] + 1))\n",
    "    X = np.hstack((np.ones((X.shape[0], 1)), X))\n",
    "    initial_theta = np.zeros(X.shape[1])\n",
    "\n",
    "    for i in range(0, num_etiquetas):\n",
    "        label = 10 if i == 0 else i\n",
    "        result = opt.fmin_tnc(costFunction, initial_theta, args=(X,(y==label).astype(int),reg))\n",
    "        print ('etiquetas =', label)\n",
    "        all_theta[i, :] = result[0]\n",
    "        \n",
    "    return all_theta"
   ]
  },
  {
   "cell_type": "code",
   "execution_count": 25,
   "metadata": {},
   "outputs": [
    {
     "name": "stdout",
     "output_type": "stream",
     "text": [
      "etiquetas = 10\n",
      "etiquetas = 1\n",
      "etiquetas = 2\n",
      "etiquetas = 3\n",
      "etiquetas = 4\n",
      "etiquetas = 5\n",
      "etiquetas = 6\n",
      "etiquetas = 7\n",
      "etiquetas = 8\n",
      "etiquetas = 9\n"
     ]
    }
   ],
   "source": [
    "all_theta = oneVsAll(X, y,num_etiquetas , reg)\n"
   ]
  },
  {
   "cell_type": "markdown",
   "metadata": {},
   "source": [
    "### Predicciones:"
   ]
  },
  {
   "cell_type": "code",
   "execution_count": 26,
   "metadata": {},
   "outputs": [],
   "source": [
    "\n",
    "def prediccion(all_theta, X):\n",
    "\n",
    "    X = np.hstack((np.ones((X.shape[0], 1)), X))\n",
    "    p = np.argmax(X.dot(all_theta.T), axis=1)\n",
    "    \n",
    "    p[p == 0] = 10\n",
    "\n",
    "    return p"
   ]
  },
  {
   "cell_type": "code",
   "execution_count": 27,
   "metadata": {},
   "outputs": [
    {
     "name": "stdout",
     "output_type": "stream",
     "text": [
      "Acieto de: 96.46000000000001\n"
     ]
    }
   ],
   "source": [
    "\n",
    "pred = prediccion(all_theta, X)\n",
    "print ('Acieto de:', np.mean(pred == y) * 100)"
   ]
  },
  {
   "cell_type": "markdown",
   "metadata": {},
   "source": [
    "## 2. Redes neuronales\n",
    "#### La red neuronal tiene la siguiente estructura:\n",
    "Formada por tres capas, con 400 unidades en la primera capa (además de la primera fijada siempre a +1), 25 en la capa oculta y 10 en la capa de salida.\n",
    "![Drag Racing](redn.png)"
   ]
  },
  {
   "cell_type": "markdown",
   "metadata": {},
   "source": [
    "#### Cargamos theta super 1 y \\theta super 2  de ex3weights.mat"
   ]
  },
  {
   "cell_type": "code",
   "execution_count": 28,
   "metadata": {},
   "outputs": [
    {
     "name": "stdout",
     "output_type": "stream",
     "text": [
      "(25, 401) (10, 26)\n"
     ]
    }
   ],
   "source": [
    "import numpy as np\n",
    "import scipy.io as sio\n",
    "\n",
    "weights = loadmat('ex3weights.mat')\n",
    "theta1 , theta2 = weights ['Theta1'] , weights ['Theta2' ] \n",
    "# Theta1 es de dimensión 25 x 401\n",
    "# Theta2 es de dimensión 10 x 26\n",
    "\n",
    "print (theta1.shape, theta2.shape)"
   ]
  },
  {
   "cell_type": "code",
   "execution_count": 29,
   "metadata": {},
   "outputs": [],
   "source": [
    "def modelo(theta1, theta2, X):\n",
    "    X = np.hstack((np.ones((X.shape[0], 1)), X))#añado unos a la col 0, shape 5000,401\n",
    "    a1 = sigmoid(np.dot(X, theta1.T)) #calculo a1\n",
    "    a1 = np.hstack((np.ones((X.shape[0], 1)), a1)) #añado col de unos\n",
    "    \n",
    "    a2 = sigmoid(np.dot(a1, theta2.T))\n",
    "\n",
    "    p = np.argmax(a2, axis=1)#índices de los valores máximos del eje 1\n",
    "    p += 1 #los indices arrancan desde 1 no desde cero\n",
    "    print (p)\n",
    "    return p"
   ]
  },
  {
   "cell_type": "code",
   "execution_count": 30,
   "metadata": {},
   "outputs": [
    {
     "name": "stdout",
     "output_type": "stream",
     "text": [
      "[10 10 10 ...  9  9  9]\n",
      "Prediccion de : 97.52\n"
     ]
    }
   ],
   "source": [
    "p = modelo(theta1,theta2,X)\n",
    "print (\"Prediccion de :\", np.mean(p == y) * 100) #mean devuelve el promedio de los y de la matriz"
   ]
  },
  {
   "cell_type": "code",
   "execution_count": null,
   "metadata": {},
   "outputs": [],
   "source": []
  },
  {
   "cell_type": "code",
   "execution_count": null,
   "metadata": {},
   "outputs": [],
   "source": []
  }
 ],
 "metadata": {
  "kernelspec": {
   "display_name": "Python 3",
   "language": "python",
   "name": "python3"
  },
  "language_info": {
   "codemirror_mode": {
    "name": "ipython",
    "version": 3
   },
   "file_extension": ".py",
   "mimetype": "text/x-python",
   "name": "python",
   "nbconvert_exporter": "python",
   "pygments_lexer": "ipython3",
   "version": "3.6.5"
  }
 },
 "nbformat": 4,
 "nbformat_minor": 2
}
